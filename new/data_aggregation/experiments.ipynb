{
 "cells": [
  {
   "cell_type": "markdown",
   "source": [
    "# Эксперименты с Git"
   ],
   "metadata": {
    "collapsed": false
   }
  },
  {
   "cell_type": "code",
   "execution_count": 1,
   "outputs": [],
   "source": [
    "import sys\n",
    "import json\n",
    "import os\n",
    "import re\n",
    "\n",
    "from typing import Dict, Set, Any, List, Tuple\n",
    "from tqdm import tqdm"
   ],
   "metadata": {
    "collapsed": false,
    "pycharm": {
     "name": "#%%\n"
    }
   }
  },
  {
   "cell_type": "code",
   "execution_count": 2,
   "outputs": [],
   "source": [
    "reports_dir = \"/Users/Denis.Sushentsev/Work/intellij_fixed_201007_raw/reports\"\n",
    "repo_path = \"/Users/Denis.Sushentsev/Work/intellij-community\""
   ],
   "metadata": {
    "collapsed": false,
    "pycharm": {
     "name": "#%%\n"
    }
   }
  },
  {
   "cell_type": "markdown",
   "source": [
    "Немного посмотрим данные."
   ],
   "metadata": {
    "collapsed": false
   }
  },
  {
   "cell_type": "code",
   "execution_count": 3,
   "outputs": [],
   "source": [
    "report_ids = sorted([int(file_name[:-5]) for file_name in os.listdir(reports_dir)])\n",
    "\n",
    "def load_report(report_id: int) -> Dict[str, Any]:\n",
    "    report_path = os.path.join(reports_dir, f\"{report_id}.json\")\n",
    "    with open(report_path) as file:\n",
    "        return json.load(file)"
   ],
   "metadata": {
    "collapsed": false,
    "pycharm": {
     "name": "#%%\n"
    }
   }
  },
  {
   "cell_type": "code",
   "execution_count": 4,
   "outputs": [
    {
     "name": "stderr",
     "output_type": "stream",
     "text": [
      "100%|██████████| 11013/11013 [00:07<00:00, 1477.16it/s]"
     ]
    },
    {
     "name": "stdout",
     "output_type": "stream",
     "text": [
      "5873 of 11013 reports have not None commit.\n"
     ]
    },
    {
     "name": "stderr",
     "output_type": "stream",
     "text": [
      "\n"
     ]
    }
   ],
   "source": [
    "has_commit = sum(load_report(rid)[\"commit\"] is not None for rid in tqdm(report_ids))\n",
    "print(f\"{has_commit} of {len(report_ids)} reports have not None commit.\")"
   ],
   "metadata": {
    "collapsed": false,
    "pycharm": {
     "name": "#%%\n"
    }
   }
  },
  {
   "cell_type": "code",
   "execution_count": 7,
   "outputs": [
    {
     "name": "stderr",
     "output_type": "stream",
     "text": [
      "100%|██████████| 11013/11013 [00:03<00:00, 3252.26it/s]"
     ]
    },
    {
     "name": "stdout",
     "output_type": "stream",
     "text": [
      "Total frames: 1252942\n",
      "Frames with not none file names: 1235551\n",
      "Java frames: 1193077\n",
      "Kotlin frames: 41599\n"
     ]
    },
    {
     "name": "stderr",
     "output_type": "stream",
     "text": [
      "\n"
     ]
    }
   ],
   "source": [
    "all_counts = not_none_counts = java_counts = kt_counts = 0\n",
    "\n",
    "for rid in tqdm(report_ids):\n",
    "    report = load_report(rid)\n",
    "    all_counts += len(report[\"frames\"])\n",
    "\n",
    "    for frame in report[\"frames\"]:\n",
    "        file_name = frame[\"file_name\"]\n",
    "        if file_name is not None:\n",
    "            not_none_counts += 1\n",
    "\n",
    "            if file_name.endswith(\".java\"):\n",
    "                java_counts += 1\n",
    "            elif file_name.endswith(\".kt\"):\n",
    "                kt_counts += 1\n",
    "\n",
    "print(f\"Total frames: {all_counts}\")\n",
    "print(f\"Frames with not none file names: {not_none_counts}\")\n",
    "print(f\"Java frames: {java_counts}\")\n",
    "print(f\"Kotlin frames: {kt_counts}\")"
   ],
   "metadata": {
    "collapsed": false,
    "pycharm": {
     "name": "#%%\n"
    }
   }
  },
  {
   "cell_type": "markdown",
   "source": [
    "Нужно найти commits, которые исправляют ошибку:\n",
    "```\n",
    "git -C repo_path log --grep=\"(^|\\s)EA-[\\d]+\" -P -- repo_path\n",
    "```"
   ],
   "metadata": {
    "collapsed": false
   }
  },
  {
   "cell_type": "markdown",
   "source": [
    "После того, как получили все коммит, нужно найти все измененные методы (файл ```get_all_changed_methods.py```)."
   ],
   "metadata": {
    "collapsed": false
   }
  },
  {
   "cell_type": "code",
   "execution_count": 39,
   "outputs": [],
   "source": [
    "commits_log = \"\\n\" \\\n",
    "              \"commit 6c81477198f895109a65a85fc663dfac89205f4c\\n\" \\\n",
    "              \"Author: Gregory.Shrago <gregory.shrago@jetbrains.com>\\n\" \\\n",
    "              \"Date:   Mon Apr 11 01:47:41 2022 +0300\\n\" \\\n",
    "              \"\\n\" \\\n",
    "              \"fix context rule results caching\\n\" \\\n",
    "              \"Also fixes IDEA-291789 and EA-488030.\\n\" \\\n",
    "              \"\\n\" \\\n",
    "              \"GitOrigin-RevId: 7e7d12798e65fef2a49d598acd96c5db09ef39d9\\n\" \\\n",
    "              \"\\n\" \\\n",
    "              \"commit b8e8f83c3cebb3f84e9daac22acdc65085bea52a\\n\" \\\n",
    "              \"Author: Alexey Kudravtsev <cdr@intellij.com>\\n\" \\\n",
    "              \"Date:   Sat Apr 9 22:38:47 2022 +0200\\n\" \\\n",
    "              \"\\n\" \\\n",
    "              \"EA-487955 (plugin) - AE: DaemonCodeAnalyzerImpl.putPreferredFileEditorFirst\\n\" \\\n",
    "              \"\\n\" \\\n",
    "              \"GitOrigin-RevId: 7ed44767d01ad6c36ba16d47cd31e73bb14e7e6a\\n\" \\\n",
    "              \"\\n\" \\\n",
    "              \"commit 5713c90def9bce30e7e4b5a7f249c2131f0dc022\\n\" \\\n",
    "              \"Author: Gregory.Shrago <gregory.shrago@jetbrains.com>\\n\" \\\n",
    "              \"Date:   Fri Apr 8 18:44:57 2022 +0300\\n\" \\\n",
    "              \"\\n\" \\\n",
    "              \"EA-257958 - PCE: AbstractProgressIndicatorBase.throwIfCanceled\\n\" \\\n",
    "              \"\\n\" \\\n",
    "              \"GitOrigin-RevId: 7e7b4e77b6c208d39b0da4f498650c1b57d09d91\\n\""
   ],
   "metadata": {
    "collapsed": false,
    "pycharm": {
     "name": "#%%\n"
    }
   }
  },
  {
   "cell_type": "code",
   "execution_count": 41,
   "outputs": [
    {
     "name": "stdout",
     "output_type": "stream",
     "text": [
      "<re.Match object; span=(8, 48), match='6c81477198f895109a65a85fc663dfac89205f4c'>\n",
      "6c81477198f895109a65a85fc663dfac89205f4c\n",
      "8\n",
      "<re.Match object; span=(281, 321), match='b8e8f83c3cebb3f84e9daac22acdc65085bea52a'>\n",
      "b8e8f83c3cebb3f84e9daac22acdc65085bea52a\n",
      "281\n",
      "<re.Match object; span=(549, 589), match='5713c90def9bce30e7e4b5a7f249c2131f0dc022'>\n",
      "5713c90def9bce30e7e4b5a7f249c2131f0dc022\n",
      "549\n"
     ]
    }
   ],
   "source": [
    "commit_pattern = re.compile(\"(?<=\\ncommit )\\w{40,40}\")\n",
    "issue_pattern = re.compile(\"(?<=EA-)\\d+\")\n",
    "\n",
    "for commit in re.finditer(commit_pattern, commits_log):\n",
    "    print(commit)\n",
    "    print(commit.group(0))\n",
    "    print(commit.start())"
   ],
   "metadata": {
    "collapsed": false,
    "pycharm": {
     "name": "#%%\n"
    }
   }
  },
  {
   "cell_type": "code",
   "execution_count": null,
   "outputs": [],
   "source": [],
   "metadata": {
    "collapsed": false,
    "pycharm": {
     "name": "#%%\n"
    }
   }
  }
 ],
 "metadata": {
  "kernelspec": {
   "display_name": "Python 3",
   "language": "python",
   "name": "python3"
  },
  "language_info": {
   "codemirror_mode": {
    "name": "ipython",
    "version": 2
   },
   "file_extension": ".py",
   "mimetype": "text/x-python",
   "name": "python",
   "nbconvert_exporter": "python",
   "pygments_lexer": "ipython2",
   "version": "2.7.6"
  }
 },
 "nbformat": 4,
 "nbformat_minor": 0
}