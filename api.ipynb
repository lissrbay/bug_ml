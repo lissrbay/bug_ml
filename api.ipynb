{
 "cells": [
  {
   "cell_type": "code",
   "execution_count": 2,
   "metadata": {
    "tags": []
   },
   "outputs": [
    {
     "name": "stderr",
     "output_type": "stream",
     "text": [
      "  0%|          | 0/26 [00:00<?, ?it/s]"
     ]
    },
    {
     "name": "stdout",
     "output_type": "stream",
     "text": [
      "Parameters(lr=0.01, epoch=10, optim=<class 'torch.optim.adam.Adam'>, anneal_coef=0.5, anneal_epoch=5, dim=60)\n"
     ]
    },
    {
     "name": "stderr",
     "output_type": "stream",
     "text": [
      "[1 / 10] Train: Loss = 0.68975, Accuracy = 39.08%, Previous code mean = 20.00%: 100%|██████████| 26/26 [00:22<00:00,  1.14it/s]\n",
      "[1 / 10]   Val: Loss = 0.68855, Accuracy = 46.72%, Previous code mean = 48.15%: 100%|██████████| 7/7 [00:02<00:00,  2.85it/s]\n",
      "[2 / 10] Train: Loss = 0.68808, Accuracy = 52.19%, Previous code mean = 18.75%: 100%|██████████| 26/26 [00:20<00:00,  1.27it/s]\n",
      "[2 / 10]   Val: Loss = 0.68808, Accuracy = 52.36%, Previous code mean = 41.38%: 100%|██████████| 7/7 [00:02<00:00,  3.06it/s]\n",
      "[3 / 10] Train: Loss = 0.68765, Accuracy = 55.82%, Previous code mean = 14.00%: 100%|██████████| 26/26 [00:19<00:00,  1.33it/s]\n",
      "[3 / 10]   Val: Loss = 0.68759, Accuracy = 56.37%, Previous code mean = 45.45%: 100%|██████████| 7/7 [00:02<00:00,  3.22it/s]\n",
      "[4 / 10] Train: Loss = 0.68735, Accuracy = 59.00%, Previous code mean = 28.00%: 100%|██████████| 26/26 [00:20<00:00,  1.27it/s]\n",
      "[4 / 10]   Val: Loss = 0.68773, Accuracy = 55.87%, Previous code mean = 45.16%: 100%|██████████| 7/7 [00:02<00:00,  2.73it/s]\n",
      "[5 / 10] Train: Loss = 0.68733, Accuracy = 58.70%, Previous code mean = 25.42%: 100%|██████████| 26/26 [00:20<00:00,  1.27it/s]\n",
      "[5 / 10]   Val: Loss = 0.68741, Accuracy = 59.05%, Previous code mean = 42.42%: 100%|██████████| 7/7 [00:02<00:00,  3.26it/s]\n",
      "[6 / 10] Train: Loss = 0.68721, Accuracy = 60.23%, Previous code mean = 25.37%: 100%|██████████| 26/26 [00:18<00:00,  1.42it/s]\n",
      "[6 / 10]   Val: Loss = 0.68735, Accuracy = 60.14%, Previous code mean = 27.78%: 100%|██████████| 7/7 [00:02<00:00,  3.41it/s]\n",
      "[7 / 10] Train: Loss = 0.68705, Accuracy = 61.05%, Previous code mean = 32.26%: 100%|██████████| 26/26 [00:21<00:00,  1.21it/s]\n",
      "[7 / 10]   Val: Loss = 0.68740, Accuracy = 58.49%, Previous code mean = 45.45%: 100%|██████████| 7/7 [00:02<00:00,  3.33it/s]\n",
      "[8 / 10] Train: Loss = 0.68702, Accuracy = 61.45%, Previous code mean = 34.78%: 100%|██████████| 26/26 [00:19<00:00,  1.32it/s]\n",
      "[8 / 10]   Val: Loss = 0.68723, Accuracy = 60.20%, Previous code mean = 60.00%: 100%|██████████| 7/7 [00:02<00:00,  3.18it/s]\n",
      "[9 / 10] Train: Loss = 0.68682, Accuracy = 63.08%, Previous code mean = 35.94%: 100%|██████████| 26/26 [00:21<00:00,  1.21it/s]\n",
      "[9 / 10]   Val: Loss = 0.68738, Accuracy = 58.33%, Previous code mean = 58.06%: 100%|██████████| 7/7 [00:02<00:00,  3.08it/s]\n",
      "[10 / 10] Train: Loss = 0.68675, Accuracy = 63.57%, Previous code mean = 28.81%: 100%|██████████| 26/26 [00:20<00:00,  1.29it/s]\n",
      "[10 / 10]   Val: Loss = 0.68735, Accuracy = 58.16%, Previous code mean = 34.48%: 100%|██████████| 7/7 [00:02<00:00,  3.11it/s]\n"
     ]
    }
   ],
   "source": [
    "from models.model import *\n",
    "from code2seq.code2seq import predict as predict_embeddings\n",
    "import data_aggregation.get_features\n",
    "from models.catboost_model import load_catboost_model\n",
    "from embeddings.match_embeddings_with_methods import match_embeddings_with_methods_from_df\n",
    "from data_aggregation.union_predictions_and_features import union_preds_features\n",
    "\n",
    "class BugLocalizationModelAPI:\n",
    "    def __init__(self, lstm_model_path='', cb_model_path='', frames_limit=384):\n",
    "        self.model = None\n",
    "        if lstm_model_path:\n",
    "            self.model = BugLocalizationModel()\n",
    "            self.model.load_model(lstm_model_path)\n",
    "\n",
    "        if cb_model_path:\n",
    "            self.cb_model = load_catboost_model(cb_model_path)\n",
    "\n",
    "        self.code2seq_predictor = None\n",
    "        self.frames_limit = 384\n",
    "\n",
    "\n",
    "    def get_code_features(self, methods_data):\n",
    "        self.feature_extractor = data_aggregation.get_features.FeatureExtractor()\n",
    "        for method in methods_data:\n",
    "            self.feature_extractor.get_feature_from_code(method['code'])\n",
    "            self.feature_extractor.get_feature_from_code(method['meta'])\n",
    "        return self.feature_extractor.to_pandas()\n",
    "\n",
    "    def collect_data_for_catboost(self, methods_data, lstm_prediction):\n",
    "        code_features_df = self.get_code_features(methods_data)\n",
    "        frames_len = len(methods_data)\n",
    "        df_preds = self.model_prediction_to_df(lstm_prediction, frames_len)\n",
    "        df_all = union_preds_features(df_preds, code_features_df)\n",
    "        df_all = df_all.drop(['label', 'method_name', 'report_id', 'indices'], axis=1)\n",
    "        return df_all\n",
    "\n",
    "    def predict_bug_lstm(self, embeddings, top_k=3):\n",
    "        prediction = self.model.model(FloatTensor(embeddings))[:,:, 1]\n",
    "        prediction = prediction.flatten()\n",
    "        return (-prediction).argsort()[:top_k], prediction\n",
    "\n",
    "    def predict_bug_cb(self, catboost_data, top_k=3):\n",
    "        prediction = self.cb_model.predict_proba(catboost_data)[:,:, 1]\n",
    "        prediction = prediction.flatten()\n",
    "        return (-prediction).argsort()[:top_k], prediction\n",
    "        \n",
    "    def model_prediction_to_df(self, prediction, frames_len):\n",
    "        return pd.DataFrame({'report_id':np.zeros(frames_len), 'method_stack_position': np.arange(0,frames_len), 'lstm_prediction':prediction})\n",
    "\n",
    "    def predict(self, methods_data, pred_type='lstm', top_k=3):\n",
    "        embeddings = self.get_embeddings(methods_data)\n",
    "        top_k_pred, lstm_prediction = self.predict_bug_lstm(embeddings, top_k)\n",
    "        if pred_type == 'lstm':\n",
    "            return top_k_pred, lstm_prediction\n",
    "\n",
    "        catboost_data = self.collect_data_for_catboost(methods_data, lstm_prediction)\n",
    "        \n",
    "        if pred_type == 'all':\n",
    "            return self.predict_bug_cb(catboost_data, top_k)\n",
    "\n",
    "\n",
    "    def get_embeddings(self, methods_data):\n",
    "        if self.code2seq_predictor is None:\n",
    "            self.code2seq_predictor = predict_embeddings()\n",
    "        methods_embeddings = []\n",
    "        for method in methods_data:\n",
    "            embeddings_df = None\n",
    "            if method['code']:\n",
    "                embeddings_df = self.code2seq_predictor.predict_by_code(method['code'])\n",
    "            embedding = match_embeddings_with_methods_from_df(embeddings_df, method['meta'])\n",
    "            methods_embeddings.append(embedding)\n",
    "        frames_len = len(methods_data)\n",
    "\n",
    "        for _ in range(frames_len, self.frames_limit):\n",
    "            methods_embeddings.append(np.zeros(384))\n",
    "\n",
    "        return np.array(methods_embeddings)\n",
    "\n",
    "    \n",
    "api = BugLocalizationModelAPI()\n",
    "api.predict(methods_data)\n",
    "\n"
   ]
  },
  {
   "cell_type": "code",
   "execution_count": 1,
   "metadata": {},
   "outputs": [
    {
     "ename": "NameError",
     "evalue": "name 'model' is not defined",
     "output_type": "error",
     "traceback": [
      "\u001b[0;31m---------------------------------------------------------------------------\u001b[0m",
      "\u001b[0;31mNameError\u001b[0m                                 Traceback (most recent call last)",
      "\u001b[0;32m<ipython-input-1-ae0a53aaeb93>\u001b[0m in \u001b[0;36m<module>\u001b[0;34m\u001b[0m\n\u001b[1;32m     28\u001b[0m \u001b[0;34m\u001b[0m\u001b[0m\n\u001b[1;32m     29\u001b[0m \u001b[0membeddings\u001b[0m \u001b[0;34m=\u001b[0m \u001b[0membed_files\u001b[0m\u001b[0;34m(\u001b[0m\u001b[0mpath_to_files\u001b[0m\u001b[0;34m,\u001b[0m \u001b[0mpath_to_methods\u001b[0m\u001b[0;34m)\u001b[0m\u001b[0;34m\u001b[0m\u001b[0;34m\u001b[0m\u001b[0m\n\u001b[0;32m---> 30\u001b[0;31m \u001b[0mpredict_bug\u001b[0m\u001b[0;34m(\u001b[0m\u001b[0mmodel\u001b[0m\u001b[0;34m,\u001b[0m \u001b[0membeddings\u001b[0m\u001b[0;34m)\u001b[0m\u001b[0;34m\u001b[0m\u001b[0;34m\u001b[0m\u001b[0m\n\u001b[0m",
      "\u001b[0;31mNameError\u001b[0m: name 'model' is not defined"
     ]
    }
   ],
   "source": [
    "#from code2seq.code2seq import predict\n",
    "from embeddings import match_embeddings_with_methods\n",
    "import numpy as np\n",
    "import sys\n",
    "import os\n",
    "\n",
    "PACKAGE_PARENT = '../code2seq'\n",
    "sys.path.append(os.path.normpath(PACKAGE_PARENT))\n",
    "PACKAGE_DATA_AGG = '../data_aggregation'\n",
    "sys.path.append(os.path.normpath(PACKAGE_DATA_AGG))\n",
    "PACKAGE_DATA_AGG = '../embeddings'\n",
    "sys.path.append(os.path.normpath(PACKAGE_DATA_AGG))\n",
    "\n",
    "def embed_files(path_to_files, path_to_methods):\n",
    "    embeddings = match_embeddings_with_methods.process_data(path_to_files, path_to_methods)\n",
    "    embeddings = np.array(embeddings).reshape(1, -1, 320)\n",
    "    return embeddings\n",
    "\n",
    "\n",
    "def predict_bug(model, embeddings):\n",
    "    prediction = model.model(FloatTensor(embeddings))[:,:, 1]\n",
    "    prediction = prediction.flatten()\n",
    "    return (-prediction).argsort()[:3], prediction\n",
    "\n",
    "\n",
    "path_to_files = '/Users/e.poslovskaya/bug_ml/ex_reports/4'\n",
    "path_to_methods = '/Users/e.poslovskaya/bug_ml/ex_reports/stacktrace_ex.json'\n",
    "\n",
    "embeddings = embed_files(path_to_files, path_to_methods)\n",
    "predict_bug(model, embeddings)"
   ]
  },
  {
   "cell_type": "code",
   "execution_count": null,
   "metadata": {},
   "outputs": [],
   "source": []
  }
 ],
 "metadata": {
  "interpreter": {
   "hash": "5829e59757067567dbc6289c6c45664a809b0f025f2506066bb1c28f096cf53f"
  },
  "kernelspec": {
   "display_name": "Python 3.6.8 64-bit ('bug_ml': conda)",
   "name": "python3"
  },
  "language_info": {
   "name": "python",
   "version": ""
  },
  "orig_nbformat": 4
 },
 "nbformat": 4,
 "nbformat_minor": 2
}