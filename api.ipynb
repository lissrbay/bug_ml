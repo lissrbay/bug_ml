{
 "cells": [
  {
   "cell_type": "code",
   "execution_count": 2,
   "metadata": {
    "tags": []
   },
   "outputs": [
    {
     "name": "stderr",
     "output_type": "stream",
     "text": [
      "  0%|          | 0/26 [00:00<?, ?it/s]"
     ]
    },
    {
     "name": "stdout",
     "output_type": "stream",
     "text": [
      "Parameters(lr=0.01, epoch=10, optim=<class 'torch.optim.adam.Adam'>, anneal_coef=0.5, anneal_epoch=5, dim=60)\n"
     ]
    },
    {
     "name": "stderr",
     "output_type": "stream",
     "text": [
      "[1 / 10] Train: Loss = 0.68975, Accuracy = 39.08%, Previous code mean = 20.00%: 100%|██████████| 26/26 [00:22<00:00,  1.14it/s]\n",
      "[1 / 10]   Val: Loss = 0.68855, Accuracy = 46.72%, Previous code mean = 48.15%: 100%|██████████| 7/7 [00:02<00:00,  2.85it/s]\n",
      "[2 / 10] Train: Loss = 0.68808, Accuracy = 52.19%, Previous code mean = 18.75%: 100%|██████████| 26/26 [00:20<00:00,  1.27it/s]\n",
      "[2 / 10]   Val: Loss = 0.68808, Accuracy = 52.36%, Previous code mean = 41.38%: 100%|██████████| 7/7 [00:02<00:00,  3.06it/s]\n",
      "[3 / 10] Train: Loss = 0.68765, Accuracy = 55.82%, Previous code mean = 14.00%: 100%|██████████| 26/26 [00:19<00:00,  1.33it/s]\n",
      "[3 / 10]   Val: Loss = 0.68759, Accuracy = 56.37%, Previous code mean = 45.45%: 100%|██████████| 7/7 [00:02<00:00,  3.22it/s]\n",
      "[4 / 10] Train: Loss = 0.68735, Accuracy = 59.00%, Previous code mean = 28.00%: 100%|██████████| 26/26 [00:20<00:00,  1.27it/s]\n",
      "[4 / 10]   Val: Loss = 0.68773, Accuracy = 55.87%, Previous code mean = 45.16%: 100%|██████████| 7/7 [00:02<00:00,  2.73it/s]\n",
      "[5 / 10] Train: Loss = 0.68733, Accuracy = 58.70%, Previous code mean = 25.42%: 100%|██████████| 26/26 [00:20<00:00,  1.27it/s]\n",
      "[5 / 10]   Val: Loss = 0.68741, Accuracy = 59.05%, Previous code mean = 42.42%: 100%|██████████| 7/7 [00:02<00:00,  3.26it/s]\n",
      "[6 / 10] Train: Loss = 0.68721, Accuracy = 60.23%, Previous code mean = 25.37%: 100%|██████████| 26/26 [00:18<00:00,  1.42it/s]\n",
      "[6 / 10]   Val: Loss = 0.68735, Accuracy = 60.14%, Previous code mean = 27.78%: 100%|██████████| 7/7 [00:02<00:00,  3.41it/s]\n",
      "[7 / 10] Train: Loss = 0.68705, Accuracy = 61.05%, Previous code mean = 32.26%: 100%|██████████| 26/26 [00:21<00:00,  1.21it/s]\n",
      "[7 / 10]   Val: Loss = 0.68740, Accuracy = 58.49%, Previous code mean = 45.45%: 100%|██████████| 7/7 [00:02<00:00,  3.33it/s]\n",
      "[8 / 10] Train: Loss = 0.68702, Accuracy = 61.45%, Previous code mean = 34.78%: 100%|██████████| 26/26 [00:19<00:00,  1.32it/s]\n",
      "[8 / 10]   Val: Loss = 0.68723, Accuracy = 60.20%, Previous code mean = 60.00%: 100%|██████████| 7/7 [00:02<00:00,  3.18it/s]\n",
      "[9 / 10] Train: Loss = 0.68682, Accuracy = 63.08%, Previous code mean = 35.94%: 100%|██████████| 26/26 [00:21<00:00,  1.21it/s]\n",
      "[9 / 10]   Val: Loss = 0.68738, Accuracy = 58.33%, Previous code mean = 58.06%: 100%|██████████| 7/7 [00:02<00:00,  3.08it/s]\n",
      "[10 / 10] Train: Loss = 0.68675, Accuracy = 63.57%, Previous code mean = 28.81%: 100%|██████████| 26/26 [00:20<00:00,  1.29it/s]\n",
      "[10 / 10]   Val: Loss = 0.68735, Accuracy = 58.16%, Previous code mean = 34.48%: 100%|██████████| 7/7 [00:02<00:00,  3.11it/s]\n"
     ]
    }
   ],
   "source": [
    "from models.model import *\n",
    "import torch.optim as optim\n",
    "import data_aggregation.get_features\n",
    "from models.catboost_model import train_test_split, train_catboost_model, count_metrics\n",
    "class BugLocalizationModelAPI:\n",
    "    def __init__(self):\n",
    "        self.model = None\n",
    "\n",
    "    def train_grid_search_model(self, embeddings_path='/Users/e.poslovskaya/bug_ml/data/X.npy', labels_path='/Users/e.poslovskaya/bug_ml/data/y.npy', save_path, params=None):\n",
    "        blm = BugLocalizationModel(embeddings_path, labels_path)\n",
    "        model = LSTMTagger\n",
    "        if params is None:\n",
    "            params = blm.create_list_of_train_hyperparameters()\n",
    "        blm.train(params, model, top_two=True)\n",
    "        blm.save_results(name=save_path)\n",
    "\n",
    "    def fit_model_from_params(self, params=None, use_best_params=False, path_to_results='.', save_path='.'):\n",
    "        blm = BugLocalizationModel(embeddings_path='./data/X.npy', labels_path='./data/y.npy')\n",
    "        model = LSTMTagger\n",
    "\n",
    "        if use_best_params:\n",
    "            pass # переучиваем модель на лучших параметрах?\n",
    "        else:\n",
    "            best_params = params\n",
    "        blm.train(best_params, model)\n",
    "        blm.save_model(save_path)\n",
    "        self.model = blm\n",
    "        return blm\n",
    "\n",
    "    def get_code_features(self, methods_data):\n",
    "        self.feature_extractor = data_aggregation.get_features.FeatureExtractor()\n",
    "        for method in methods_data:\n",
    "            self.feature_extractor.get_feature_from_code(method['code'])\n",
    "            self.feature_extractor.get_feature_from_code(method['meta'])\n",
    "        return self.feature_extractor.to_pandas()\n",
    "\n",
    "    def embed_files(self, path_to_files, path_to_methods):\n",
    "        embeddings = match_embeddings_with_methods.process_data(path_to_files, path_to_methods)\n",
    "        embeddings = np.array(embeddings).reshape(1, -1, 320)\n",
    "        return embeddings\n",
    "\n",
    "\n",
    "    def predict_bug(self, embeddings):\n",
    "        prediction = self.model.model(FloatTensor(embeddings))[:,:, 1]\n",
    "        prediction = prediction.flatten()\n",
    "        return (-prediction).argsort()[:3], prediction\n",
    "\n",
    "\n",
    "    def fit_catboost(self):\n",
    "        df_features = self.feature_extractor.to_pandas()\n",
    "        #df = df.DataFrame({\"preds\":predict_bug(), \"indices\":})\n",
    "        train_pool, test_pool, df_val = train_test_split(df_features)\n",
    "        model = train_catboost_model(train_pool, test_pool, save=True)\n",
    "\n",
    "        results = count_metrics(model, df_val)\n",
    "        self.cb_model = model\n",
    "        return model\n",
    "    \n",
    "api = BugLocalizationModelAPI()\n",
    "params = Parameters(0.01, 10, optim.Adam, 0.5, 5, 60)\n",
    "model = api.fit_model_from_params([params], save_path='./data/lstm')\n",
    "\n"
   ]
  },
  {
   "cell_type": "code",
   "execution_count": 1,
   "metadata": {},
   "outputs": [
    {
     "ename": "NameError",
     "evalue": "name 'model' is not defined",
     "output_type": "error",
     "traceback": [
      "\u001b[0;31m---------------------------------------------------------------------------\u001b[0m",
      "\u001b[0;31mNameError\u001b[0m                                 Traceback (most recent call last)",
      "\u001b[0;32m<ipython-input-1-ae0a53aaeb93>\u001b[0m in \u001b[0;36m<module>\u001b[0;34m\u001b[0m\n\u001b[1;32m     28\u001b[0m \u001b[0;34m\u001b[0m\u001b[0m\n\u001b[1;32m     29\u001b[0m \u001b[0membeddings\u001b[0m \u001b[0;34m=\u001b[0m \u001b[0membed_files\u001b[0m\u001b[0;34m(\u001b[0m\u001b[0mpath_to_files\u001b[0m\u001b[0;34m,\u001b[0m \u001b[0mpath_to_methods\u001b[0m\u001b[0;34m)\u001b[0m\u001b[0;34m\u001b[0m\u001b[0;34m\u001b[0m\u001b[0m\n\u001b[0;32m---> 30\u001b[0;31m \u001b[0mpredict_bug\u001b[0m\u001b[0;34m(\u001b[0m\u001b[0mmodel\u001b[0m\u001b[0;34m,\u001b[0m \u001b[0membeddings\u001b[0m\u001b[0;34m)\u001b[0m\u001b[0;34m\u001b[0m\u001b[0;34m\u001b[0m\u001b[0m\n\u001b[0m",
      "\u001b[0;31mNameError\u001b[0m: name 'model' is not defined"
     ]
    }
   ],
   "source": [
    "#from code2seq.code2seq import predict\n",
    "from embeddings import match_embeddings_with_methods\n",
    "import numpy as np\n",
    "import sys\n",
    "import os\n",
    "\n",
    "PACKAGE_PARENT = '../code2seq'\n",
    "sys.path.append(os.path.normpath(PACKAGE_PARENT))\n",
    "PACKAGE_DATA_AGG = '../data_aggregation'\n",
    "sys.path.append(os.path.normpath(PACKAGE_DATA_AGG))\n",
    "PACKAGE_DATA_AGG = '../embeddings'\n",
    "sys.path.append(os.path.normpath(PACKAGE_DATA_AGG))\n",
    "\n",
    "def embed_files(path_to_files, path_to_methods):\n",
    "    embeddings = match_embeddings_with_methods.process_data(path_to_files, path_to_methods)\n",
    "    embeddings = np.array(embeddings).reshape(1, -1, 320)\n",
    "    return embeddings\n",
    "\n",
    "\n",
    "def predict_bug(model, embeddings):\n",
    "    prediction = model.model(FloatTensor(embeddings))[:,:, 1]\n",
    "    prediction = prediction.flatten()\n",
    "    return (-prediction).argsort()[:3], prediction\n",
    "\n",
    "\n",
    "path_to_files = '/Users/e.poslovskaya/bug_ml/ex_reports/4'\n",
    "path_to_methods = '/Users/e.poslovskaya/bug_ml/ex_reports/stacktrace_ex.json'\n",
    "\n",
    "embeddings = embed_files(path_to_files, path_to_methods)\n",
    "predict_bug(model, embeddings)"
   ]
  },
  {
   "cell_type": "code",
   "execution_count": null,
   "metadata": {},
   "outputs": [],
   "source": []
  }
 ],
 "metadata": {
  "interpreter": {
   "hash": "7b107529d5ac335ebc859dfcb0ca1e9f956726879c66edb3f2727868c1664dab"
  },
  "kernelspec": {
   "display_name": "Python 3.8.5 64-bit ('base': conda)",
   "name": "python3"
  },
  "language_info": {
   "name": "python",
   "version": ""
  },
  "orig_nbformat": 4
 },
 "nbformat": 4,
 "nbformat_minor": 2
}
