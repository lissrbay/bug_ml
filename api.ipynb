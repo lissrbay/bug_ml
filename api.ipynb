{
 "metadata": {
  "language_info": {
   "codemirror_mode": {
    "name": "ipython",
    "version": 3
   },
   "file_extension": ".py",
   "mimetype": "text/x-python",
   "name": "python",
   "nbconvert_exporter": "python",
   "pygments_lexer": "ipython3",
   "version": "3.8.5"
  },
  "orig_nbformat": 4,
  "kernelspec": {
   "name": "python3",
   "display_name": "Python 3.8.5 64-bit ('base': conda)"
  },
  "interpreter": {
   "hash": "7b107529d5ac335ebc859dfcb0ca1e9f956726879c66edb3f2727868c1664dab"
  }
 },
 "nbformat": 4,
 "nbformat_minor": 2,
 "cells": [
  {
   "cell_type": "code",
   "execution_count": 5,
   "metadata": {
    "tags": []
   },
   "outputs": [
    {
     "output_type": "stream",
     "name": "stderr",
     "text": [
      "  0%|          | 0/26 [00:00<?, ?it/s]Parameters(lr=0.01, epoch=10, optim=<class 'torch.optim.adam.Adam'>, anneal_coef=0.5, anneal_epoch=5, dim=60)\n",
      "[1 / 10] Train: Loss = 0.68965, Accuracy = 39.70%, Previous code mean = 27.91%: 100%|██████████| 26/26 [00:25<00:00,  1.04it/s]\n",
      "[1 / 10]   Val: Loss = 0.68807, Accuracy = 53.44%, Previous code mean = 25.00%: 100%|██████████| 7/7 [00:04<00:00,  1.48it/s]\n",
      "[2 / 10] Train: Loss = 0.68790, Accuracy = 53.89%, Previous code mean = 29.09%: 100%|██████████| 26/26 [00:19<00:00,  1.31it/s]\n",
      "[2 / 10]   Val: Loss = 0.68796, Accuracy = 54.62%, Previous code mean = 44.12%: 100%|██████████| 7/7 [00:02<00:00,  3.41it/s]\n",
      "[3 / 10] Train: Loss = 0.68758, Accuracy = 56.30%, Previous code mean = 20.75%: 100%|██████████| 26/26 [00:21<00:00,  1.24it/s]\n",
      "[3 / 10]   Val: Loss = 0.68779, Accuracy = 54.42%, Previous code mean = 54.84%: 100%|██████████| 7/7 [00:02<00:00,  2.88it/s]\n",
      "[4 / 10] Train: Loss = 0.68732, Accuracy = 59.01%, Previous code mean = 29.63%: 100%|██████████| 26/26 [00:20<00:00,  1.30it/s]\n",
      "[4 / 10]   Val: Loss = 0.68778, Accuracy = 54.81%, Previous code mean = 48.28%: 100%|██████████| 7/7 [00:02<00:00,  3.45it/s]\n",
      "[5 / 10] Train: Loss = 0.68717, Accuracy = 59.99%, Previous code mean = 17.24%: 100%|██████████| 26/26 [00:24<00:00,  1.06it/s]\n",
      "[5 / 10]   Val: Loss = 0.68750, Accuracy = 56.71%, Previous code mean = 39.39%: 100%|██████████| 7/7 [00:02<00:00,  3.31it/s]\n",
      "[6 / 10] Train: Loss = 0.68709, Accuracy = 60.39%, Previous code mean = 26.42%: 100%|██████████| 26/26 [00:18<00:00,  1.39it/s]\n",
      "[6 / 10]   Val: Loss = 0.68735, Accuracy = 58.41%, Previous code mean = 39.47%: 100%|██████████| 7/7 [00:02<00:00,  3.24it/s]\n",
      "[7 / 10] Train: Loss = 0.68704, Accuracy = 61.09%, Previous code mean = 33.33%: 100%|██████████| 26/26 [00:19<00:00,  1.36it/s]\n",
      "[7 / 10]   Val: Loss = 0.68722, Accuracy = 58.83%, Previous code mean = 45.95%: 100%|██████████| 7/7 [00:01<00:00,  3.74it/s]\n",
      "[8 / 10] Train: Loss = 0.68681, Accuracy = 62.97%, Previous code mean = 17.74%: 100%|██████████| 26/26 [00:16<00:00,  1.61it/s]\n",
      "[8 / 10]   Val: Loss = 0.68720, Accuracy = 59.36%, Previous code mean = 42.50%: 100%|██████████| 7/7 [00:01<00:00,  3.73it/s]\n",
      "[9 / 10] Train: Loss = 0.68677, Accuracy = 63.35%, Previous code mean = 29.31%: 100%|██████████| 26/26 [00:17<00:00,  1.51it/s]\n",
      "[9 / 10]   Val: Loss = 0.68723, Accuracy = 59.11%, Previous code mean = 40.00%: 100%|██████████| 7/7 [00:01<00:00,  3.68it/s]\n",
      "[10 / 10] Train: Loss = 0.68677, Accuracy = 63.51%, Previous code mean = 20.00%: 100%|██████████| 26/26 [00:17<00:00,  1.50it/s]\n",
      "[10 / 10]   Val: Loss = 0.68725, Accuracy = 59.56%, Previous code mean = 41.94%: 100%|██████████| 7/7 [00:02<00:00,  3.36it/s]\n"
     ]
    }
   ],
   "source": [
    "from models.model import *\n",
    "import torch.optim as optim\n",
    "import json\n",
    "def train_best_model(save_path):\n",
    "    blm = BugLocalizationModel(embeddings_path='/Users/e.poslovskaya/bug_ml/data/X.npy', labels_path='/Users/e.poslovskaya/bug_ml/data/y.npy')\n",
    "    model = LSTMTagger\n",
    "    params = blm.create_list_of_train_hyperparameters()\n",
    "    blm.train(params, model, top_two=True)\n",
    "\n",
    "    blm.save_results(name=name)\n",
    "\n",
    "def model_from_params(params=None, use_best_params=False, path_to_results='.', save_path='.'):\n",
    "    blm = BugLocalizationModel(embeddings_path='./data/X.npy', labels_path='./data/y.npy')\n",
    "    model = LSTMTagger\n",
    "\n",
    "    if use_best_params:\n",
    "        pass # переучиваем модель на лучших параметрах?\n",
    "    else:\n",
    "        best_params = params\n",
    "    blm.train(best_params, model)\n",
    "    blm.save_model(save_path)\n",
    "    return blm\n",
    "\n",
    "#train_best_model('/Users/e.poslovskaya/bug_ml/data')\n",
    "params = Parameters(0.01, 10, optim.Adam, 0.5, 5, 60)\n",
    "model = model_from_params([params], save_path='./data/lstm')\n",
    "\n"
   ]
  },
  {
   "cell_type": "code",
   "execution_count": 40,
   "metadata": {},
   "outputs": [
    {
     "output_type": "execute_result",
     "data": {
      "text/plain": [
       "(tensor([2, 1, 0]),\n",
       " tensor([1.6132e-03, 2.6129e-02, 9.7226e-01, 5.3394e-14, 5.3394e-14, 5.3394e-14,\n",
       "         5.3394e-14, 5.3394e-14, 5.3394e-14, 5.3394e-14, 5.3394e-14, 5.3394e-14,\n",
       "         5.3394e-14, 5.3394e-14, 5.3394e-14, 5.3394e-14, 5.3394e-14, 5.3394e-14,\n",
       "         5.3394e-14, 5.3394e-14, 5.3394e-14, 5.3394e-14, 5.3394e-14, 5.3394e-14,\n",
       "         5.3394e-14, 5.3394e-14, 5.3394e-14, 5.3394e-14, 5.3394e-14, 5.3394e-14,\n",
       "         5.3394e-14, 5.3394e-14, 5.3394e-14, 5.3394e-14, 5.3394e-14, 5.3394e-14,\n",
       "         5.3394e-14, 5.3394e-14, 5.3394e-14, 5.3394e-14, 5.3394e-14, 5.3394e-14,\n",
       "         5.3394e-14, 5.3394e-14, 5.3394e-14, 5.3394e-14, 5.3394e-14, 5.3394e-14,\n",
       "         5.3394e-14, 5.3394e-14, 5.3394e-14, 5.3394e-14, 5.3394e-14, 5.3394e-14,\n",
       "         5.3394e-14, 5.3394e-14, 5.3394e-14, 5.3394e-14, 5.3394e-14, 5.3394e-14,\n",
       "         5.3394e-14, 5.3394e-14, 5.3394e-14, 5.3394e-14, 5.3394e-14, 5.3394e-14,\n",
       "         5.3394e-14, 5.3394e-14, 5.3394e-14, 5.3394e-14, 5.3394e-14, 5.3394e-14,\n",
       "         5.3394e-14, 5.3394e-14, 5.3394e-14, 5.3394e-14, 5.3394e-14, 5.3394e-14,\n",
       "         5.3395e-14, 5.3395e-14], grad_fn=<ViewBackward>))"
      ]
     },
     "metadata": {},
     "execution_count": 40
    }
   ],
   "source": [
    "#from code2seq.code2seq import predict\n",
    "from embeddings import match_embeddings_with_methods\n",
    "import numpy as np\n",
    "import sys\n",
    "import os\n",
    "\n",
    "PACKAGE_PARENT = '../code2seq'\n",
    "sys.path.append(os.path.normpath(PACKAGE_PARENT))\n",
    "PACKAGE_DATA_AGG = '../data_aggregation'\n",
    "sys.path.append(os.path.normpath(PACKAGE_DATA_AGG))\n",
    "PACKAGE_DATA_AGG = '../embeddings'\n",
    "sys.path.append(os.path.normpath(PACKAGE_DATA_AGG))\n",
    "\n",
    "def embed_files(path_to_files, path_to_methods):\n",
    "    embeddings = match_embeddings_with_methods.process_data(path_to_files, path_to_methods)\n",
    "    embeddings = np.array(embeddings).reshape(1, -1, 320)\n",
    "    return embeddings\n",
    "\n",
    "\n",
    "def predict_bug(model, embeddings):\n",
    "    prediction = model.model(FloatTensor(embeddings))[:,:, 1]\n",
    "    prediction = prediction.flatten()\n",
    "    return (-prediction).argsort()[:3], prediction\n",
    "\n",
    "\n",
    "path_to_files = '/Users/e.poslovskaya/bug_ml/ex_reports/4'\n",
    "path_to_methods = '/Users/e.poslovskaya/bug_ml/ex_reports/stacktrace_ex.json'\n",
    "\n",
    "embeddings = embed_files(path_to_files, path_to_methods)\n",
    "predict_bug(model, embeddings)"
   ]
  },
  {
   "cell_type": "code",
   "execution_count": null,
   "metadata": {},
   "outputs": [],
   "source": []
  }
 ]
}